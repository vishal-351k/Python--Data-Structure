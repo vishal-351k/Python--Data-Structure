{
  "nbformat": 4,
  "nbformat_minor": 0,
  "metadata": {
    "colab": {
      "provenance": []
    },
    "kernelspec": {
      "name": "python3",
      "display_name": "Python 3"
    },
    "language_info": {
      "name": "python"
    }
  },
  "cells": [
    {
      "cell_type": "markdown",
      "source": [
        "## **1. Discuss string slicing and provide examples.**\n",
        "\n",
        "String slicing is a way to extract a subset of characters from a string in Python. It is done by using square brackets `[]` with the start and end indices of the slice. The syntax is as follows:\n",
        "\n",
        "`string[start:stop:step]`\n",
        "\n",
        "**Where:**\n",
        "\n",
        "* `string` is the original string\n",
        "* `start` is the starting index of the slice (inclusive)\n",
        "* `stop` is the ending index of the slice (exclusive)\n",
        "* `step` is the increment between elements (default is 1)\n",
        "\n",
        "Here are some examples:\n",
        "\n",
        "**Example 1: Basic Slicing**\n"
      ],
      "metadata": {
        "id": "fnckp-5q5XUd"
      }
    },
    {
      "cell_type": "code",
      "source": [
        "string = \"Python - Data Structure\"\n",
        "print(string[0:5])"
      ],
      "metadata": {
        "colab": {
          "base_uri": "https://localhost:8080/"
        },
        "id": "tHCBCgC4HDcA",
        "outputId": "10d0caac-6365-4bf3-e6e8-6128f10c5f52"
      },
      "execution_count": 6,
      "outputs": [
        {
          "output_type": "stream",
          "name": "stdout",
          "text": [
            "Pytho\n"
          ]
        }
      ]
    },
    {
      "cell_type": "markdown",
      "source": [
        "In this example, we are slicing the string from the first character to the fifth character (exclusive).\n",
        "\n",
        "**Example 2: Negative Indexing**"
      ],
      "metadata": {
        "id": "Kvb5CtHtHQgM"
      }
    },
    {
      "cell_type": "code",
      "source": [
        "string = \"Python - Data Structure\"\n",
        "print(string[-5:])"
      ],
      "metadata": {
        "colab": {
          "base_uri": "https://localhost:8080/"
        },
        "id": "u5WeOB8BHamp",
        "outputId": "3d9b9e9f-0195-4989-88a2-3df458d82623"
      },
      "execution_count": 7,
      "outputs": [
        {
          "output_type": "stream",
          "name": "stdout",
          "text": [
            "cture\n"
          ]
        }
      ]
    },
    {
      "cell_type": "markdown",
      "source": [
        "In this example, we are using negative indexing to start from the end of the string. The `-5` means we start from the fifth character from the end and slice to the end of the string.\n",
        "\n",
        "**Example 3: Slicing with Step**"
      ],
      "metadata": {
        "id": "LN0iBUzRHlgD"
      }
    },
    {
      "cell_type": "code",
      "source": [
        "string = \"Python - Data Structure\"\n",
        "print(string[0:10:2])"
      ],
      "metadata": {
        "colab": {
          "base_uri": "https://localhost:8080/"
        },
        "id": "cnOst63EHytS",
        "outputId": "7fa3cae7-72c6-4407-ca4d-f5f42c6df25a"
      },
      "execution_count": 8,
      "outputs": [
        {
          "output_type": "stream",
          "name": "stdout",
          "text": [
            "Pto  \n"
          ]
        }
      ]
    },
    {
      "cell_type": "markdown",
      "source": [
        "In this example, we are slicing the string with a step of 2. This means we take every other character starting from the first character.\n",
        "\n",
        "**Example 4: Slicing with Stop**"
      ],
      "metadata": {
        "id": "Vm92uTITIOhe"
      }
    },
    {
      "cell_type": "code",
      "source": [
        "string = \"Python - Data Structure\"\n",
        "print(string[0:6])"
      ],
      "metadata": {
        "colab": {
          "base_uri": "https://localhost:8080/"
        },
        "id": "D_GvhNndITQY",
        "outputId": "82e4b433-ec70-4fb6-a9b5-e976ced902fd"
      },
      "execution_count": 9,
      "outputs": [
        {
          "output_type": "stream",
          "name": "stdout",
          "text": [
            "Python\n"
          ]
        }
      ]
    },
    {
      "cell_type": "markdown",
      "source": [
        "In this example, we are slicing the string up to but not including the sixth character.\n",
        "\n",
        "**Example 5: Slicing with Start and Stop**"
      ],
      "metadata": {
        "id": "ogYB_GoAIdtJ"
      }
    },
    {
      "cell_type": "code",
      "source": [
        "string = \"Python - Data Structure\"\n",
        "print(string[6:11])"
      ],
      "metadata": {
        "colab": {
          "base_uri": "https://localhost:8080/"
        },
        "id": "m9bx7x2FIiAe",
        "outputId": "1090fac2-f8fa-4b61-ba50-922b484c2464"
      },
      "execution_count": 10,
      "outputs": [
        {
          "output_type": "stream",
          "name": "stdout",
          "text": [
            " - Da\n"
          ]
        }
      ]
    },
    {
      "cell_type": "markdown",
      "source": [
        "In this example, we are slicing the string from the sixth character to but not including the eleventh character.\n",
        "\n",
        "**Example 6: Slicing with Negative Start and Stop**"
      ],
      "metadata": {
        "id": "dOhdGYsnIy7T"
      }
    },
    {
      "cell_type": "code",
      "source": [
        "string = \"Python - Data Structure\"\n",
        "print(string[-6:-1])"
      ],
      "metadata": {
        "colab": {
          "base_uri": "https://localhost:8080/"
        },
        "id": "ZaAG-eW8I1A7",
        "outputId": "aeb15967-885a-4ce3-ca47-8e01a4e1b836"
      },
      "execution_count": 11,
      "outputs": [
        {
          "output_type": "stream",
          "name": "stdout",
          "text": [
            "uctur\n"
          ]
        }
      ]
    },
    {
      "cell_type": "markdown",
      "source": [
        "In this example, we are slicing the string from the sixth character from the end to but not including the first character from the end.\n",
        "\n",
        "**Example 7: Slicing with Negative Start and Step**"
      ],
      "metadata": {
        "id": "7x2XhtBSJEfX"
      }
    },
    {
      "cell_type": "code",
      "source": [
        "string = \"Python - Data Structure\"\n",
        "print(string[-6::-1])"
      ],
      "metadata": {
        "colab": {
          "base_uri": "https://localhost:8080/"
        },
        "id": "z9oVAUiCJG5X",
        "outputId": "dc4bd0c0-1362-4617-a950-1aec76aa6c32"
      },
      "execution_count": 12,
      "outputs": [
        {
          "output_type": "stream",
          "name": "stdout",
          "text": [
            "urtS ataD - nohtyP\n"
          ]
        }
      ]
    },
    {
      "cell_type": "markdown",
      "source": [
        "In this example, we are slicing the string from the sixth character from the end to but not including the first character from the end, and then reversing the order of the characters.\n",
        "\n",
        "## **2. Explain the key features of lists in Python.**\n",
        "\n",
        "Lists in Python are a type of data structure that can store multiple elements of the same or different data types. The key features of lists in Python are:\n",
        "\n",
        "a. **Indexing**: Lists can be indexed, meaning that we can access and manipulate specific elements in the list using their index (position). Indexes start at 0, so the first element in the list is at index 0, the second element is at index 1, and so on.\n",
        "\n",
        "b. **Mutable**: Lists are mutable, which means that they can be changed after they have been created. We can add, remove, or modify elements in the list.\n",
        "\n",
        "c. **Ordered**: Lists maintain the order in which elements are inserted. This means that the order of elements in a list is important and can be used to keep track of the order of operations or to store data in a specific order.\n",
        "\n",
        "d. **Duplicated Elements**: Lists can contain duplicate elements. This means that we can have multiple instances of the same value in a list.\n",
        "\n",
        "e. **Size**: Lists can grow or shrink dynamically as elements are added or removed. This means that we don't need to specify the size of the list when we create it, and we can add or remove elements as needed.\n",
        "\n",
        "f. **Slicing**: Lists support slicing, which allows us to extract a subset of elements from the list. You can use square brackets `[]` to specify the start and end indices of the slice, and we can also use a step value to specify how many elements to skip.\n",
        "\n",
        "g. **Append**: Lists support the `append` method, which allows us to add a new element to the end of the list.\n",
        "\n",
        "h. **Extend**: Lists support the `extend` method, which allows us to add multiple elements to the end of the list.\n",
        "\n",
        "i. **Insert**: Lists support the `insert` method, which allows us to add a new element at a specific position in the list.\n",
        "\n",
        "j. **Remove**: Lists support the `remove` method, which allows us to remove the first occurrence of a specific element in the list.\n",
        "\n",
        "k. **Sort**: Lists support the `sort` method, which allows us to sort the elements in the list in ascending or descending order.\n",
        "\n",
        "l. **Reverse**: Lists support the `reverse` method, which allows us to reverse the order of the elements in the list.\n",
        "\n",
        "Here is an example of how we can use these features:"
      ],
      "metadata": {
        "id": "KfljNq5XJSWN"
      }
    },
    {
      "cell_type": "code",
      "source": [
        "list = [1, 2, 3, 4, 5]\n",
        "\n",
        "# Accessing an element\n",
        "print(list[0])\n",
        "\n",
        "# Adding an element\n",
        "list.append(6)\n",
        "print(list)\n",
        "\n",
        "# Removing an element\n",
        "list.remove(3)\n",
        "print(list)\n",
        "\n",
        "# Sorting the list\n",
        "list.sort()\n",
        "print(list)\n",
        "\n",
        "# Reversing the list\n",
        "list.reverse()\n",
        "print(list)"
      ],
      "metadata": {
        "colab": {
          "base_uri": "https://localhost:8080/"
        },
        "id": "HpfhgbZvKZTv",
        "outputId": "d44f587c-3229-47f6-9a3f-1825a0a3440f"
      },
      "execution_count": 15,
      "outputs": [
        {
          "output_type": "stream",
          "name": "stdout",
          "text": [
            "1\n",
            "[1, 2, 3, 4, 5, 6]\n",
            "[1, 2, 4, 5, 6]\n",
            "[1, 2, 4, 5, 6]\n",
            "[6, 5, 4, 2, 1]\n"
          ]
        }
      ]
    },
    {
      "cell_type": "markdown",
      "source": [
        "## **3. Describe how to access, modify, and delete elements in a list with examples.**\n",
        "\n",
        "Examples of how to access, modify, and delete elements in a list:\n",
        "\n",
        "**a. Accessing Elements:**\n",
        "\n",
        "You can access elements in a list by using their index (position). Indexes start at 0, so the first element in the list is at index 0, the second element is at index 1, and so on."
      ],
      "metadata": {
        "id": "59ff3KhCLeNm"
      }
    },
    {
      "cell_type": "code",
      "source": [
        "list = ['apple', 'banana', 'mango']\n",
        "print(list[0])\n",
        "print(list[1])\n",
        "print(list[2])"
      ],
      "metadata": {
        "colab": {
          "base_uri": "https://localhost:8080/"
        },
        "id": "dPWiLZIUMxUW",
        "outputId": "a1f41efb-82d4-4e8b-8b0e-e38adc9e4aa5"
      },
      "execution_count": 16,
      "outputs": [
        {
          "output_type": "stream",
          "name": "stdout",
          "text": [
            "apple\n",
            "banana\n",
            "mango\n"
          ]
        }
      ]
    },
    {
      "cell_type": "markdown",
      "source": [
        "You can also access elements in a list by using slicing. Slicing allows you to extract a subset of elements from the list."
      ],
      "metadata": {
        "id": "kun93urZM8OY"
      }
    },
    {
      "cell_type": "code",
      "source": [
        "list = ['apple', 'banana', 'mango', 'grape', 'orange']\n",
        "print(list[1:3])\n",
        "print(list[1:])\n",
        "print(list[:3])"
      ],
      "metadata": {
        "colab": {
          "base_uri": "https://localhost:8080/"
        },
        "id": "RQ6iVxXBNAb9",
        "outputId": "c645df14-26a9-4aae-c3f6-d0a77ec53066"
      },
      "execution_count": 17,
      "outputs": [
        {
          "output_type": "stream",
          "name": "stdout",
          "text": [
            "['banana', 'mango']\n",
            "['banana', 'mango', 'grape', 'orange']\n",
            "['apple', 'banana', 'mango']\n"
          ]
        }
      ]
    },
    {
      "cell_type": "markdown",
      "source": [
        "**b. Modifying Elements:**\n",
        "\n",
        "You can modify elements in a list by using indexing. You can assign a new value to an element by using its index."
      ],
      "metadata": {
        "id": "FDlrhDfINeDv"
      }
    },
    {
      "cell_type": "code",
      "source": [
        "list = ['apple', 'banana', 'mango']\n",
        "list[0] = 'grape'\n",
        "print(list)"
      ],
      "metadata": {
        "colab": {
          "base_uri": "https://localhost:8080/"
        },
        "id": "qvl1pkYlNpHx",
        "outputId": "74b2c7f5-4491-4773-fa3a-7a1e08dbb049"
      },
      "execution_count": 18,
      "outputs": [
        {
          "output_type": "stream",
          "name": "stdout",
          "text": [
            "['grape', 'banana', 'mango']\n"
          ]
        }
      ]
    },
    {
      "cell_type": "markdown",
      "source": [
        "You can also use slicing to modify elements in a list. For example, you can use slicing to replace a subset of elements with a new value."
      ],
      "metadata": {
        "id": "EIHwWQOlN07g"
      }
    },
    {
      "cell_type": "code",
      "source": [
        "list = ['apple', 'banana', 'orange', 'mango', 'strawberry']\n",
        "list[1:3] = ['pineapple', 'watermelon']\n",
        "print(list)"
      ],
      "metadata": {
        "colab": {
          "base_uri": "https://localhost:8080/"
        },
        "id": "cMQRDoFhN4RE",
        "outputId": "a77aa0ca-5d20-4bcc-f16d-f315dc735849"
      },
      "execution_count": 19,
      "outputs": [
        {
          "output_type": "stream",
          "name": "stdout",
          "text": [
            "['apple', 'pineapple', 'watermelon', 'mango', 'strawberry']\n"
          ]
        }
      ]
    },
    {
      "cell_type": "markdown",
      "source": [
        "**c. Deleting Elements:**\n",
        "\n",
        "**i. `del`:** You can delete elements in a list by using the `del` statement. You can specify the index of the element you want to delete."
      ],
      "metadata": {
        "id": "ZthAvlGjOqoQ"
      }
    },
    {
      "cell_type": "code",
      "source": [
        "list = ['apple', 'banana', 'mango']\n",
        "del list[0]\n",
        "print(list)"
      ],
      "metadata": {
        "colab": {
          "base_uri": "https://localhost:8080/"
        },
        "id": "w2N2cy2vPBPl",
        "outputId": "e2d79b84-f1d0-4e5b-f2d3-69c079f38544"
      },
      "execution_count": 20,
      "outputs": [
        {
          "output_type": "stream",
          "name": "stdout",
          "text": [
            "['banana', 'mango']\n"
          ]
        }
      ]
    },
    {
      "cell_type": "markdown",
      "source": [
        "**ii. `pop`:** You can also use the `pop` method to delete an element from a list. The `pop` method removes the element at the specified index and returns it."
      ],
      "metadata": {
        "id": "mVVhOhDEPMj2"
      }
    },
    {
      "cell_type": "code",
      "source": [
        "list = ['apple', 'banana', 'mango']\n",
        "poppedElement = list.pop(0)\n",
        "print(poppedElement)\n",
        "print(list)"
      ],
      "metadata": {
        "colab": {
          "base_uri": "https://localhost:8080/"
        },
        "id": "DmpRfWq6PW83",
        "outputId": "0085474c-012e-460b-d5ac-b7d76f0b4afa"
      },
      "execution_count": 21,
      "outputs": [
        {
          "output_type": "stream",
          "name": "stdout",
          "text": [
            "apple\n",
            "['banana', 'mango']\n"
          ]
        }
      ]
    },
    {
      "cell_type": "markdown",
      "source": [
        "**iii. `remove`:** You can also use the `remove` method to delete an element from a list. The `remove` method removes the first occurrence of the specified element."
      ],
      "metadata": {
        "id": "LVQVyjy2PqTC"
      }
    },
    {
      "cell_type": "code",
      "source": [
        "list = ['apple', 'banana', 'banana', 'mango']\n",
        "list.remove('banana')\n",
        "print(list)"
      ],
      "metadata": {
        "colab": {
          "base_uri": "https://localhost:8080/"
        },
        "id": "kSMODFjRQCRC",
        "outputId": "4f658835-47d3-4a1f-a6fd-1ee1579d4ae9"
      },
      "execution_count": 22,
      "outputs": [
        {
          "output_type": "stream",
          "name": "stdout",
          "text": [
            "['apple', 'banana', 'mango']\n"
          ]
        }
      ]
    },
    {
      "cell_type": "markdown",
      "source": [
        "## **4. Compare and contrast tuples and lists with examples.**\n",
        "\n",
        "Tuples and lists are both data structures in Python that can be used to store collections of values. However, they have some key differences:\n",
        "\n",
        "**i. Immutability**\n",
        "\n",
        "Tuples are immutable, which means that once a tuple is created, its contents cannot be changed. Lists, on the other hand, are mutable, which means that their contents can be changed after they are created.\n",
        "\n",
        "**Example:**\n",
        "```\n",
        "tuple = (1, 2, 3)\n",
        "tuple[0] = 4  # Error\n",
        "\n",
        "list = [1, 2, 3]\n",
        "list[0] = 4\n",
        "print(list)  # Output: [4, 2, 3]\n",
        "```\n",
        "\n",
        "**ii. Indexing**\n",
        "\n",
        "Tuples and lists both support indexing, which allows you to access individual elements by their position. However, tuples are immutable, so you cannot change the elements at a given index.\n",
        "\n",
        "**Example:**"
      ],
      "metadata": {
        "id": "mGzP8VdXQUed"
      }
    },
    {
      "cell_type": "code",
      "source": [
        "tuple = (1, 2, 3)\n",
        "print(tuple[0])\n",
        "\n",
        "list = [1, 2, 3]\n",
        "print(list[0])\n",
        "list[0] = 4\n",
        "print(list)"
      ],
      "metadata": {
        "colab": {
          "base_uri": "https://localhost:8080/"
        },
        "id": "-P3GgbzPfv9R",
        "outputId": "8957c760-0270-4ab5-e752-6fa5a75370db"
      },
      "execution_count": 24,
      "outputs": [
        {
          "output_type": "stream",
          "name": "stdout",
          "text": [
            "1\n",
            "1\n",
            "[4, 2, 3]\n"
          ]
        }
      ]
    },
    {
      "cell_type": "markdown",
      "source": [
        "**iii. Memory Usage**\n",
        "\n",
        "Tuples are more memory-efficient than lists because they are immutable and do not require additional memory to store the indices of the elements.\n",
        "\n",
        "**Example:**"
      ],
      "metadata": {
        "id": "_1B2jbFCf8_Y"
      }
    },
    {
      "cell_type": "code",
      "source": [
        "import sys\n",
        "\n",
        "tuple = (1, 2, 3)\n",
        "list = [1, 2, 3]\n",
        "\n",
        "print(sys.getsizeof(tuple))\n",
        "print(sys.getsizeof(list))"
      ],
      "metadata": {
        "colab": {
          "base_uri": "https://localhost:8080/"
        },
        "id": "vsJSm3ZrgLHV",
        "outputId": "c7298dd4-c045-41ab-bb47-fdcd3310967e"
      },
      "execution_count": 23,
      "outputs": [
        {
          "output_type": "stream",
          "name": "stdout",
          "text": [
            "64\n",
            "88\n"
          ]
        }
      ]
    },
    {
      "cell_type": "markdown",
      "source": [
        "When to use `tuples`:\n",
        "\n",
        "* When you need an immutable collection of elements.\n",
        "* When you want to ensure that the data structure cannot be modified accidentally.\n",
        "* When working with database records or geometric coordinates.\n",
        "\n",
        "When to use `lists`:\n",
        "\n",
        "* When you need a mutable collection of elements.\n",
        "* When you want to be able to add, remove, or modify elements dynamically.\n",
        "*  When working with a wide range of tasks, such as data processing, algorithm implementation, or web development.\n",
        "\n",
        "\n",
        "**Example:**"
      ],
      "metadata": {
        "id": "zfJyFd2NgqLR"
      }
    },
    {
      "cell_type": "code",
      "source": [
        "colours = ('red', 'green', 'blue')\n",
        "print(colours)\n",
        "\n",
        "tools = ['hammer', 'saw', 'drill']\n",
        "tools.append('wrench')\n",
        "print(tools)"
      ],
      "metadata": {
        "colab": {
          "base_uri": "https://localhost:8080/"
        },
        "id": "RR0ZgYzXgx5I",
        "outputId": "33a8bc48-422e-42bc-8c4f-4c02c9a1697f"
      },
      "execution_count": 25,
      "outputs": [
        {
          "output_type": "stream",
          "name": "stdout",
          "text": [
            "('red', 'green', 'blue')\n",
            "['hammer', 'saw', 'drill', 'wrench']\n"
          ]
        }
      ]
    },
    {
      "cell_type": "markdown",
      "source": [
        "**Differences:**\n",
        "\n",
        "* **Syntax:** Tuples use parentheses `()` to enclose elements, while lists use square brackets `[]`.\n",
        "* **Use cases:** Tuples are often used when you need an immutable collection of elements, such as when working with database records or geometric coordinates. Lists are more versatile and are commonly used for a wide range of tasks.\n",
        "\n",
        "**Similarities:**\n",
        "\n",
        "* Both tuples and lists are data structures that can store multiple values.\n",
        "* Both can be indexed, meaning you can access specific elements using their index.\n",
        "* Both can be sliced, allowing you to extract a subset of elements.\n",
        "* Both can be iterated over using a for loop.\n"
      ],
      "metadata": {
        "id": "3xVMUII3llNj"
      }
    },
    {
      "cell_type": "markdown",
      "source": [
        "## **5. Describe the key features of sets and provide examples of their use.**\n",
        "\n",
        "Sets are a type of data structure in Python that are used to store a collection of unique elements. Here are the key features of sets:\n",
        "\n",
        "Key Features:\n",
        "\n",
        "* **Unordered:** Sets are unordered, meaning that the elements in a set do not have a specific order.\n",
        "\n",
        "* **Unique:** Sets can only contain unique elements, meaning that duplicate elements are automatically removed.\n",
        "\n",
        "* **Fast lookup:** Sets provide fast lookup operations, such as checking if an element is in the set or adding an element to the set.\n",
        "\n",
        "* **Operations:** Sets support various operations, such as union, intersection, and difference.\n",
        "\n",
        "Examples of Use:\n",
        "\n",
        "**a. Creating a Set:**"
      ],
      "metadata": {
        "id": "GkYngiS7nqDx"
      }
    },
    {
      "cell_type": "code",
      "source": [
        "set = {1, 2, 3, 4, 5}\n",
        "print(set)"
      ],
      "metadata": {
        "colab": {
          "base_uri": "https://localhost:8080/"
        },
        "id": "tLqrHT8jp-a1",
        "outputId": "057e916f-b47d-4181-f697-c14bd0ae6b4f"
      },
      "execution_count": 26,
      "outputs": [
        {
          "output_type": "stream",
          "name": "stdout",
          "text": [
            "{1, 2, 3, 4, 5}\n"
          ]
        }
      ]
    },
    {
      "cell_type": "markdown",
      "source": [
        "**b. Adding Elements to a Set:**"
      ],
      "metadata": {
        "id": "IrSR7kjKqCTa"
      }
    },
    {
      "cell_type": "code",
      "source": [
        "set = {1, 2, 3}\n",
        "set.add(4)\n",
        "print(set)"
      ],
      "metadata": {
        "colab": {
          "base_uri": "https://localhost:8080/"
        },
        "id": "vCSQbp79qWtZ",
        "outputId": "9ab451fa-7b69-4521-c2c5-2558b36828cb"
      },
      "execution_count": 27,
      "outputs": [
        {
          "output_type": "stream",
          "name": "stdout",
          "text": [
            "{1, 2, 3, 4}\n"
          ]
        }
      ]
    },
    {
      "cell_type": "markdown",
      "source": [
        "**c. Removing Elements from a Set:**"
      ],
      "metadata": {
        "id": "00MrWvluqiDk"
      }
    },
    {
      "cell_type": "code",
      "source": [
        "set = {1, 2, 3}\n",
        "set.remove(2)\n",
        "print(set)"
      ],
      "metadata": {
        "colab": {
          "base_uri": "https://localhost:8080/"
        },
        "id": "RDHR0l8VqmGR",
        "outputId": "1a6145bc-5e82-409f-c481-ba8acb7c26f5"
      },
      "execution_count": 28,
      "outputs": [
        {
          "output_type": "stream",
          "name": "stdout",
          "text": [
            "{1, 3}\n"
          ]
        }
      ]
    },
    {
      "cell_type": "markdown",
      "source": [
        "**d. Checking if an Element is in a Set:**"
      ],
      "metadata": {
        "id": "L9LaCo8mzaQL"
      }
    },
    {
      "cell_type": "code",
      "source": [
        "set = {1, 2, 3}\n",
        "if 2 in set:\n",
        "    print(\"Element is in the set\")\n",
        "else:\n",
        "    print(\"Element is not in the set\")"
      ],
      "metadata": {
        "colab": {
          "base_uri": "https://localhost:8080/"
        },
        "id": "nyXD-vkHzfQs",
        "outputId": "11abce73-6821-4fcc-f725-746a2ab4701c"
      },
      "execution_count": 29,
      "outputs": [
        {
          "output_type": "stream",
          "name": "stdout",
          "text": [
            "Element is in the set\n"
          ]
        }
      ]
    },
    {
      "cell_type": "markdown",
      "source": [
        "**e. Union of Two Sets:**"
      ],
      "metadata": {
        "id": "M_OkpJuzzlFA"
      }
    },
    {
      "cell_type": "code",
      "source": [
        "set1 = {1, 2, 3}\n",
        "set2 = {3, 4, 5}\n",
        "unionSet = set1.union(set2)\n",
        "print(unionSet)"
      ],
      "metadata": {
        "colab": {
          "base_uri": "https://localhost:8080/"
        },
        "id": "0a1PAJbJzqdh",
        "outputId": "eb201711-4b28-4ebf-ccfd-ffdf7d022393"
      },
      "execution_count": 30,
      "outputs": [
        {
          "output_type": "stream",
          "name": "stdout",
          "text": [
            "{1, 2, 3, 4, 5}\n"
          ]
        }
      ]
    },
    {
      "cell_type": "markdown",
      "source": [
        "**f. Intersection of Two Sets:**\n",
        "\n",
        "      \n",
        "\n"
      ],
      "metadata": {
        "id": "oKM4Bvwvz3JH"
      }
    },
    {
      "cell_type": "code",
      "source": [
        "set1 = {1, 2, 3}\n",
        "set2 = {3, 4, 5}\n",
        "intersectionSet = set1.intersection(set2)\n",
        "print(intersectionSet)"
      ],
      "metadata": {
        "colab": {
          "base_uri": "https://localhost:8080/"
        },
        "id": "-y1nXKAWz8Qw",
        "outputId": "48293195-16e1-4208-acff-710906887cc9"
      },
      "execution_count": 31,
      "outputs": [
        {
          "output_type": "stream",
          "name": "stdout",
          "text": [
            "{3}\n"
          ]
        }
      ]
    },
    {
      "cell_type": "markdown",
      "source": [
        "**g. Difference of Two Sets:**"
      ],
      "metadata": {
        "id": "NDJx9lHB0Nfw"
      }
    },
    {
      "cell_type": "code",
      "source": [
        "set1 = {1, 2, 3}\n",
        "set2 = {3, 4, 5}\n",
        "differenceSet = set1.difference(set2)\n",
        "print(differenceSet)"
      ],
      "metadata": {
        "colab": {
          "base_uri": "https://localhost:8080/"
        },
        "id": "M2XU-yLd0SvH",
        "outputId": "d1c81125-fec0-41ab-e6d4-649b8a472e48"
      },
      "execution_count": 32,
      "outputs": [
        {
          "output_type": "stream",
          "name": "stdout",
          "text": [
            "{1, 2}\n"
          ]
        }
      ]
    },
    {
      "cell_type": "markdown",
      "source": [
        "**Use Cases for Sets:**\n",
        "\n",
        "* **Removing duplicates:** Sets can be used to remove duplicates from a collection of elements.\n",
        "* **Fast membership testing:** Sets provide fast membership testing, making them useful for checking if an element is present in a large collection.\n",
        "* **Set operations:** Sets support fast union, intersection, and difference operations, making them useful for performing set operations.\n"
      ],
      "metadata": {
        "id": "EXPcFbuu0prR"
      }
    },
    {
      "cell_type": "markdown",
      "source": [
        "## **6. Discuss the use cases of tuples and sets in Python programming.**\n",
        "\n",
        "**i. Tuples:**\n",
        "\n",
        "Tuples are a type of data structure in Python that are used to store a collection of values. They are immutable, meaning that once a tuple is created, its contents cannot be changed.\n",
        "\n",
        "**Use Cases:**\n",
        "\n",
        "* **Constant Values:** Tuples are often used when you need to store a collection of constant values that should not be changed after creation.\n",
        "* **Data Structures:** Tuples can be used as a data structure in its own right, similar to lists or dictionaries.\n",
        "* **Return Multiple Values:** Tuples can be used to return multiple values from a function, making it easier to work with functions that return multiple values.\n",
        "* **Immutable Data:** Tuples are immutable, which makes them useful when you need to ensure that the data is not changed accidentally.\n",
        "* **Cache:** Tuples can be used as a cache for frequently accessed data, as they are immutable and can be stored in memory without worrying about changes.\n",
        "\n",
        "**Examples:**\n",
        "\n",
        "* **Creating a tuple of constant values:**\n",
        "```\n",
        "    colours = ('red', 'green', 'blue')\n",
        "```\n",
        "* **Using a tuple as a data structure:**\n",
        "```\n",
        "data = (1, 2, 3, 4)\n",
        "```\n",
        "    \n",
        "* **Returning multiple values from a function:**\n"
      ],
      "metadata": {
        "id": "5Xu-gOWs1Cqd"
      }
    },
    {
      "cell_type": "code",
      "source": [
        "def userInfo(name, age):\n",
        "    return (name, age)\n",
        "\n",
        "name, age = userInfo('Vishal', 24)\n",
        "print(name)\n",
        "print(age)"
      ],
      "metadata": {
        "colab": {
          "base_uri": "https://localhost:8080/"
        },
        "id": "QLgnuFm_2W1z",
        "outputId": "986f60a9-a4fc-4bc1-f496-c7b5a4d83110"
      },
      "execution_count": 43,
      "outputs": [
        {
          "output_type": "stream",
          "name": "stdout",
          "text": [
            "Vishal\n",
            "24\n"
          ]
        }
      ]
    },
    {
      "cell_type": "markdown",
      "source": [
        "**ii. Sets:**\n",
        "\n",
        "Sets are an unordered collection of unique elements in Python. They are mutable, meaning that their contents can be changed after creation.\n",
        "\n",
        "**Use Cases:**\n",
        "\n",
        "* **Unordered Collection:** Sets are useful when you need to store a collection of elements that do not need to be in a specific order.\n",
        "* **Removing Duplicates:** Sets can be used to remove duplicates from a list or other data structure.\n",
        "* **Fast Membership Testing:** Sets provide fast membership testing, making them useful when you need to check if an element is in a collection.\n",
        "* **Data Analysis:** Sets are useful in data analysis and science, where you may need to perform operations on large collections of data.\n",
        "* **Database Operations:** Sets can be used to perform operations on database queries, such as selecting unique values or finding the intersection of two sets.\n",
        "\n",
        "**Examples:**\n",
        "\n",
        "* **Creating a set:**\n",
        "```\n",
        "set = {1, 2, 3, 4}\n",
        "```\n",
        "* **Removing duplicates from a list:**\n",
        "\n",
        "```\n",
        "list = [1, 2, 2, 3, 4, 4]\n",
        "mySet = set(list)\n",
        "print(mySet)\n",
        "```\n",
        "\n",
        "    \n",
        "\n",
        "* **Performing fast membership testing:**"
      ],
      "metadata": {
        "id": "znw3KXLa2ixb"
      }
    },
    {
      "cell_type": "code",
      "source": [
        "set = {1, 2, 3}\n",
        "if 2 in set:\n",
        "    print(\"Element is in the set\")\n",
        "else:\n",
        "    print(\"Element is not in the set\")\n"
      ],
      "metadata": {
        "colab": {
          "base_uri": "https://localhost:8080/"
        },
        "id": "y9_6la5s3RW7",
        "outputId": "49abdf5c-767f-4061-e21f-bd1f27327663"
      },
      "execution_count": 37,
      "outputs": [
        {
          "output_type": "stream",
          "name": "stdout",
          "text": [
            "Element is in the set\n"
          ]
        }
      ]
    },
    {
      "cell_type": "markdown",
      "source": [
        "## **7. Describe how to add, modify, and delete items in a dictionary with examples.**\n",
        "\n",
        "**i. Adding Items to a Dictionary:**\n",
        "\n",
        "To add an item to a dictionary, you can use the assignment operator (`=`) to assign a value to a new key. If the key already exists, the value will be updated."
      ],
      "metadata": {
        "id": "n5vfaVwn4Z6p"
      }
    },
    {
      "cell_type": "code",
      "source": [
        "dict = {'name': 'Vishal', 'age': 24}\n",
        "\n",
        "dict['city'] = 'Delhi'\n",
        "print(dict)"
      ],
      "metadata": {
        "colab": {
          "base_uri": "https://localhost:8080/"
        },
        "id": "TfUa-SF-5Eh7",
        "outputId": "759f3943-3108-4262-d9d0-456c546878a0"
      },
      "execution_count": 44,
      "outputs": [
        {
          "output_type": "stream",
          "name": "stdout",
          "text": [
            "{'name': 'Vishal', 'age': 24, 'city': 'Delhi'}\n"
          ]
        }
      ]
    },
    {
      "cell_type": "markdown",
      "source": [
        "**ii. Modifying Items in a Dictionary:**\n",
        "\n",
        "To modify an item in a dictionary, you can use the assignment operator (=) to update the value associated with an existing key.\n"
      ],
      "metadata": {
        "id": "dIADABe75M0E"
      }
    },
    {
      "cell_type": "code",
      "source": [
        "dict = {'name': 'Vishal', 'age': 24}\n",
        "\n",
        "dict['age'] = 25\n",
        "print(dict)"
      ],
      "metadata": {
        "colab": {
          "base_uri": "https://localhost:8080/"
        },
        "id": "w6UDq6ul5nHL",
        "outputId": "fe9e89a4-ad3e-4315-fbe2-20920f131944"
      },
      "execution_count": 41,
      "outputs": [
        {
          "output_type": "stream",
          "name": "stdout",
          "text": [
            "{'name': 'Vishal', 'age': 25}\n"
          ]
        }
      ]
    },
    {
      "cell_type": "markdown",
      "source": [
        "**iii. Deleting Items from a Dictionary:**\n",
        "\n",
        "To delete an item from a dictionary, you can use the `del` statement or the `pop()` method."
      ],
      "metadata": {
        "id": "NxkevFM6569S"
      }
    },
    {
      "cell_type": "code",
      "source": [
        "dict = {'name': 'Vishal', 'age': 24, 'city': 'Delhi'}\n",
        "\n",
        "del dict['city']\n",
        "print(dict)  # Output: {'name': 'Vishal', 'age': 24}\n",
        "\n",
        "dict.pop('age')\n",
        "print(dict)  # Output: {'name': 'Vishal'}"
      ],
      "metadata": {
        "colab": {
          "base_uri": "https://localhost:8080/"
        },
        "id": "tKW2qjXB6QGu",
        "outputId": "739cfd8b-4d85-4ec3-a937-4bf3790fa55e"
      },
      "execution_count": 45,
      "outputs": [
        {
          "output_type": "stream",
          "name": "stdout",
          "text": [
            "{'name': 'Vishal', 'age': 24}\n",
            "{'name': 'Vishal'}\n"
          ]
        }
      ]
    },
    {
      "cell_type": "markdown",
      "source": [
        "**a. Using the `update()` Method:**\n",
        "\n",
        "The `update()` method can be used to add or modify multiple items in a dictionary at once."
      ],
      "metadata": {
        "id": "j7QUgycC65VY"
      }
    },
    {
      "cell_type": "code",
      "source": [
        "dict = {'name': 'Vishal', 'age': 24}\n",
        "dict.update({'city': 'Delhi', 'country': 'India'})\n",
        "print(dict)"
      ],
      "metadata": {
        "colab": {
          "base_uri": "https://localhost:8080/"
        },
        "id": "XD-n4EtZ7B52",
        "outputId": "935554d2-fb41-4226-a970-f880710d1268"
      },
      "execution_count": 46,
      "outputs": [
        {
          "output_type": "stream",
          "name": "stdout",
          "text": [
            "{'name': 'Vishal', 'age': 24, 'city': 'Delhi', 'country': 'India'}\n"
          ]
        }
      ]
    },
    {
      "cell_type": "markdown",
      "source": [
        "**b. Using the `setdefault()` Method:**\n",
        "\n",
        "The `setdefault()` method can be used to add a new item to a dictionary if the key does not already exist.\n",
        "\n",
        "\n",
        "\n"
      ],
      "metadata": {
        "id": "lMoXSg_o7vx2"
      }
    },
    {
      "cell_type": "code",
      "source": [
        "dict = {'name': 'Vishal', 'age': 24}\n",
        "dict.setdefault('city', 'Delhi')\n",
        "print(dict)"
      ],
      "metadata": {
        "colab": {
          "base_uri": "https://localhost:8080/"
        },
        "id": "EoCNsf9t8CM2",
        "outputId": "26a726b6-4160-4a75-d08e-68670bf92c13"
      },
      "execution_count": 47,
      "outputs": [
        {
          "output_type": "stream",
          "name": "stdout",
          "text": [
            "{'name': 'Vishal', 'age': 24, 'city': 'Delhi'}\n"
          ]
        }
      ]
    },
    {
      "cell_type": "markdown",
      "source": [
        "## **8. Discuss the importance of dictionary keys being immutable and provide examples.**\n",
        "\n",
        "**Importance of Immutable Dictionary Keys:**\n",
        "\n",
        "In Python, dictionary keys must be immutable. This means that once a key is created, its contents cannot be changed. This is an important feature of dictionaries because it allows for efficient and predictable behavior when working with dictionaries.\n",
        "\n",
        "**Why Immutable Keys are Important:**\n",
        "\n",
        "* **Efficient Hashing:** Dictionaries use hash tables to store and retrieve values. When a key is added to the dictionary, Python calculates its hash value using the key's contents. If the key's contents change, the hash value would also change, making it difficult to find the key in the hash table. By making keys immutable, Python can ensure that the hash value remains constant, making it easier to locate the key in the hash table.\n",
        "* **Predictable Behavior:** Immutable keys ensure that the behavior of a dictionary is predictable and consistent. If keys were mutable, it could lead to unexpected behavior when working with dictionaries, such as unexpected key changes or errors when retrieving values.\n",
        "* **Thread Safety:** Immutable keys make it easier to ensure thread safety when working with dictionaries. Since keys are not changed, multiple threads can access the dictionary simultaneously without worrying about concurrent modifications.\n",
        "\n",
        "**Examples:**\n",
        "\n",
        "**a. Immutable String Key:** The following example demonstrates how an immutable string key can be used in a dictionary\n"
      ],
      "metadata": {
        "id": "UgA5HCFd8ad_"
      }
    },
    {
      "cell_type": "code",
      "source": [
        "dict = {'name': 'Vishal'}\n",
        "print(dict['name'])"
      ],
      "metadata": {
        "colab": {
          "base_uri": "https://localhost:8080/"
        },
        "id": "v8yQcK5e9vWZ",
        "outputId": "612b2ade-80b2-4321-9e7c-f25e96166067"
      },
      "execution_count": 48,
      "outputs": [
        {
          "output_type": "stream",
          "name": "stdout",
          "text": [
            "Vishal\n"
          ]
        }
      ]
    },
    {
      "cell_type": "markdown",
      "source": [
        "In this example, the string `name` is an immutable key that is used to retrieve the value 'Vishal'."
      ],
      "metadata": {
        "id": "KVQy_De798Wb"
      }
    },
    {
      "cell_type": "markdown",
      "source": [
        "**b. Mutable List Key:** The following example demonstrates how a mutable list key cannot be used in a dictionary\n",
        "```\n",
        "list = [1, 2, 3]\n",
        "dict = {list: 'Vishal'}\n",
        "print(dict)  # Output: TypeError: unhashable type: 'list'\n",
        "```\n",
        "\n",
        "In this example, attempting to use a mutable list as a key results in a TypeError because lists are not immutable."
      ],
      "metadata": {
        "id": "e6m2kWzO-EKB"
      }
    },
    {
      "cell_type": "markdown",
      "source": [
        "**c. Immutable Tuple Key:** The following example demonstrates how an immutable tuple key can be used in a dictionary"
      ],
      "metadata": {
        "id": "Pj2bnv4k-l8e"
      }
    },
    {
      "cell_type": "code",
      "source": [
        "tuple = (1, 2, 3)\n",
        "dict = {tuple: 'Vishal'}\n",
        "print(dict[tuple])"
      ],
      "metadata": {
        "colab": {
          "base_uri": "https://localhost:8080/"
        },
        "id": "z_X-BQGz-7DH",
        "outputId": "6577e680-b409-4dc4-889f-c08d8ef16b0e"
      },
      "execution_count": 49,
      "outputs": [
        {
          "output_type": "stream",
          "name": "stdout",
          "text": [
            "Vishal\n"
          ]
        }
      ]
    },
    {
      "cell_type": "markdown",
      "source": [
        "In this example, the tuple (1, 2, 3) is an immutable key that is used to retrieve the value 'Vishal'.\n",
        "\n",
        "**Consequences of Mutable Keys:**\n",
        "\n",
        "If dictionary keys were mutable, it could lead to several issues:\n",
        "\n",
        "* **Hash collisions:** If a key's hash value changes, it could collide with another key's hash value, causing the dictionary to store the wrong value or overwrite an existing value.\n",
        "* **Key lookup failures:** If a key's hash value changes, the dictionary might not be able to find the corresponding value, leading to KeyError exceptions.\n",
        "* **Dictionary corruption:** If a key's hash value changes, it could cause the dictionary's internal structure to become corrupted, leading to unpredictable behavior or crashes.\n",
        "\n",
        "\n",
        "**Summary:** Immutable dictionary keys are essential for efficient and predictable behavior when working with dictionaries. They ensure that hash values remain constant, making it easier to locate keys in the hash table, and provide predictable behavior when working with dictionaries."
      ],
      "metadata": {
        "id": "rysjDRHT_JJb"
      }
    }
  ]
}